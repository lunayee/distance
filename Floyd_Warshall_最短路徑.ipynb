{
  "nbformat": 4,
  "nbformat_minor": 0,
  "metadata": {
    "colab": {
      "name": "Floyd-Warshall 最短路徑.ipynb",
      "provenance": [],
      "authorship_tag": "ABX9TyPcGT+oWDHByqdZCQioNbOF",
      "include_colab_link": true
    },
    "kernelspec": {
      "name": "python3",
      "display_name": "Python 3"
    }
  },
  "cells": [
    {
      "cell_type": "markdown",
      "metadata": {
        "id": "view-in-github",
        "colab_type": "text"
      },
      "source": [
        "<a href=\"https://colab.research.google.com/github/lunayee/distance/blob/main/Floyd_Warshall_%E6%9C%80%E7%9F%AD%E8%B7%AF%E5%BE%91.ipynb\" target=\"_parent\"><img src=\"https://colab.research.google.com/assets/colab-badge.svg\" alt=\"Open In Colab\"/></a>"
      ]
    },
    {
      "cell_type": "code",
      "metadata": {
        "colab": {
          "base_uri": "https://localhost:8080/"
        },
        "id": "Jnt1wC8jPsbG",
        "outputId": "4eeac435-6700-4a78-c19e-fd2fd62bca47"
      },
      "source": [
        "import numpy as np\n",
        "import pandas as pd\n",
        "\n",
        "inf = 99999999\n",
        "e = np.zeros((10,10), dtype = np.int)\n",
        "\n",
        "n, m = map(int, input().split(' '))\n",
        "\n",
        "#initialize\n",
        "for i in range(1, n+1):\n",
        "\tfor j in range(1, n+1):\n",
        "\t\tif i==j:\n",
        "\t\t\te[i][j]=0\n",
        "\t\telse:\n",
        "\t\t\te[i][j]=inf\n",
        "\n",
        "#read line\n",
        "for i in range(1, m+1):\n",
        "\tt1, t2, t3 = map(int, input().split(' '))\n",
        "\te[t1][t2]=t3\n",
        "\n",
        "#Floyd-Warshall algorithm\n",
        "for k in range(1, n+1):\n",
        "\tfor i in range(1, n+1):\n",
        "\t\tfor j in range(1, n+1):\n",
        "\t\t\tif e[i][j] > e[i][k]+e[k][j]:\n",
        "\t\t\t\te[i][j] = e[i][k]+e[k][j]\n",
        "\n",
        "# test data:\n",
        "# 4 8\n",
        "# 1 2 2\n",
        "# 1 3 6\n",
        "# 1 4 4\n",
        "# 2 3 3\n",
        "# 3 1 7\n",
        "# 3 4 1\n",
        "# 4 1 5\n",
        "# 4 3 12\n",
        "\n",
        "#output final consequences\n",
        "for i in range(1, n+1):\n",
        "    print(e[i][1:n+1])\n",
        "\n",
        "# ---------------------\n",
        "# [0 2 5 4]\n",
        "# [9 0 3 4]\n",
        "# [6 8 0 1]\n",
        "# [ 5  7 10  0]\n"
      ],
      "execution_count": 1,
      "outputs": [
        {
          "output_type": "stream",
          "text": [
            "4 8\n",
            "1 2 2\n",
            "1 3 6\n",
            "1 4 4\n",
            "2 3 3\n",
            "3 1 7\n",
            "3 4 1\n",
            "4 1 5\n",
            "4 3 12\n",
            "[0 2 5 4]\n",
            "[9 0 3 4]\n",
            "[6 8 0 1]\n",
            "[ 5  7 10  0]\n"
          ],
          "name": "stdout"
        }
      ]
    }
  ]
}