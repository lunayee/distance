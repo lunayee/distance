{
  "nbformat": 4,
  "nbformat_minor": 0,
  "metadata": {
    "colab": {
      "name": "圖廣度學習.ipynb",
      "provenance": [],
      "authorship_tag": "ABX9TyNbTC1I3eQELcomGwKkt4Bl",
      "include_colab_link": true
    },
    "kernelspec": {
      "name": "python3",
      "display_name": "Python 3"
    }
  },
  "cells": [
    {
      "cell_type": "markdown",
      "metadata": {
        "id": "view-in-github",
        "colab_type": "text"
      },
      "source": [
        "<a href=\"https://colab.research.google.com/github/lunayee/distance/blob/main/%E5%9C%96%E5%BB%A3%E5%BA%A6%E5%AD%B8%E7%BF%92.ipynb\" target=\"_parent\"><img src=\"https://colab.research.google.com/assets/colab-badge.svg\" alt=\"Open In Colab\"/></a>"
      ]
    },
    {
      "cell_type": "code",
      "metadata": {
        "colab": {
          "base_uri": "https://localhost:8080/"
        },
        "id": "WZYnRDy7G2X-",
        "outputId": "d49840ca-a291-4080-fa20-8c3eaaa41d89"
      },
      "source": [
        "import numpy as np\n",
        "\n",
        "'''\n",
        "輸入驗證資料：\n",
        "5 7 1 5\n",
        "1 2\n",
        "1 3\n",
        "2 3\n",
        "2 4\n",
        "3 4\n",
        "3 5\n",
        "4 5\n",
        "'''\n",
        "class note:\n",
        "\tdef __init__(self):\n",
        "\t\tself.x = np.zeros(2501, dtype=np.int) #城市編號\n",
        "\t\tself.s = np.zeros(2501, dtype=np.int) #轉機次數\n",
        "\n",
        "que = note()\n",
        "book = np.zeros(51, dtype=np.int)\n",
        "e = np.zeros((51,51), dtype=np.int)\n",
        "\n",
        "flag = 0\n",
        "\n",
        "n, m, start, end = map(int, input().split(' '))\n",
        "# 初始化二維矩陣\n",
        "for i in range(1, n+1):\n",
        "\tfor j in range(1, n+1):\n",
        "\t\tif i==j:\n",
        "\t\t\te[i][j]=0\n",
        "\t\telse:\n",
        "\t\t\te[i][j]=99999999\n",
        "#讀入城市間的航班\n",
        "for i in range(1, m+1):\n",
        "\ta, b = map(int, input().split(' '))\n",
        "\t#這邊是無相圖！！！\n",
        "\te[a][b]=1\n",
        "\te[b][a]=1\n",
        "\n",
        "#佇列初始化\n",
        "head = 1\n",
        "tail = 1\n",
        "\n",
        "#從start城市出發，並加入到佇列\n",
        "que.x[tail] = start\n",
        "que.s[tail] = 0\n",
        "tail += 1\n",
        "book[1] = start #標記已加入佇列中\n",
        "\n",
        "#當佇列不為空\n",
        "while head<tail :\n",
        "\tcur = que.x[head] #目前佇列中首城市的編號\n",
        "\tfor j in range(1, n+1): #從1~n依次嘗試\n",
        "\t\t#判斷從城市cur到城市j是否有航班，並判斷城市j是否已經在佇列中\n",
        "\t\tif e[cur][j] != 99999999 and book[j]==0 :\n",
        "\t    \t#如果從城市cur到城市j有航班且城市ｊ不在佇列中，則將j城市加入佇列\n",
        "\t\t\tque.x[tail] = j\n",
        "\t\t\tque.s[tail] = que.s[head] +1 #轉機次數+1\n",
        "\t\t\ttail +=1\n",
        "\t\t\tbook[j]=1 #標記城市已在佇列中\n",
        "\n",
        "\t\t#如果到達目標城市，停止擴展，任務結束，退出迴圈\n",
        "\t\tif que.x[tail] == end:\n",
        "\t\t\tflag = 1\n",
        "\t\t\tbreak\n",
        "\tif flag ==1:\n",
        "\t\tbreak\n",
        "\n",
        "\t# 當一個擴展結束後，要head++才能對後面的點再進行擴展\n",
        "\thead += 1\n",
        "\n",
        "# 列印佇列中末尾最後一個點(目標城市)的步數，但tail是指向佇列尾的下一個位置，所以要-1\n",
        "print (que.s[tail-1])"
      ],
      "execution_count": 6,
      "outputs": [
        {
          "output_type": "stream",
          "text": [
            "5 7 1 5\n",
            "1 2\n",
            "1 3\n",
            "2 3\n",
            "2 4\n",
            "3 4\n",
            "3 5\n",
            "4 5\n",
            "2\n"
          ],
          "name": "stdout"
        }
      ]
    }
  ]
}