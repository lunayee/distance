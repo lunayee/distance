{
  "nbformat": 4,
  "nbformat_minor": 0,
  "metadata": {
    "colab": {
      "name": "圖深度搜尋.ipynb",
      "provenance": [],
      "authorship_tag": "ABX9TyMuBqNTcBYp+OleC+/sqxpW",
      "include_colab_link": true
    },
    "kernelspec": {
      "name": "python3",
      "display_name": "Python 3"
    }
  },
  "cells": [
    {
      "cell_type": "markdown",
      "metadata": {
        "id": "view-in-github",
        "colab_type": "text"
      },
      "source": [
        "<a href=\"https://colab.research.google.com/github/lunayee/distance/blob/main/%E5%9C%96%E6%B7%B1%E5%BA%A6%E6%90%9C%E5%B0%8B.ipynb\" target=\"_parent\"><img src=\"https://colab.research.google.com/assets/colab-badge.svg\" alt=\"Open In Colab\"/></a>"
      ]
    },
    {
      "cell_type": "code",
      "metadata": {
        "id": "Gx1ZJfksIVoM"
      },
      "source": [
        "import numpy as np\n",
        "#從各點走到5的最短距離\n",
        "'''\n",
        "輸入驗證資料：\n",
        "5 8\n",
        "1 2 2\n",
        "1 5 10\n",
        "2 3 3\n",
        "2 5 7\n",
        "3 1 4\n",
        "3 4 4\n",
        "4 5 5\n",
        "5 3 3\n",
        "'''\n",
        "\n",
        "# 初始化\n",
        "min1=99999999       #表正無窮\n",
        "book = np.zeros(101, dtype=np.int)  # 用來表示是否走過\n",
        "e = np.zeros((101,101), dtype=np.int) # 用來儲存地圖資料\n",
        "\n",
        "def dfs (cur, dis): #cur是目前所在城市編號\n",
        "\tglobal min1\n",
        "\tif dis > min1: return   #如果目前走過的路已經大於之前找到的最短路徑，返回\n",
        "\tif cur == n:            #判斷是否到目標城市\n",
        "\t\tif dis < min1:      \n",
        "\t\t\tmin1 = dis      #更新最短距離\n",
        "\t\t\treturn\n",
        "\tfor j in range(1, n+1): #從1號城市到n號城市依次嘗試\n",
        "\t\t#判斷目前城市到城市j是否有路，並判斷是否再以走過的路逕中\n",
        "\t\tif e[cur][j] != 99999999 and book[j]==0 :\n",
        "\t\t\tbook[j]=1  #標記城市已在路徑中\n",
        "\t\t\tdfs(j, dis+e[cur][j]) #從城市j再出發，繼續尋找目標城市\n",
        "\t\t\tbook[j]=0 #前一部探索完畢後，取消對城市j的標記\n",
        "\treturn\n",
        "\n",
        "#初始化二維矩陣\n",
        "n, m = map(int, input().split(' '))\n",
        "for i in range(1, n+1):\n",
        "\tfor j in range(1, n+1):\n",
        "\t\tif i==j: \n",
        "\t\t\te[i][j]=0\n",
        "\t\telse: \n",
        "\t\t\te[i][j]=99999999\n",
        "\n",
        "#讀入城市之間的道路\n",
        "for i in range(1, m+1):\n",
        "\ta, b, c = map(int, input().split(' '))\n",
        "\te[a][b] = c #unidirectional\n",
        "\n",
        "#從1號城市出發\n",
        "book[1]=1 #標記1號城市已在路徑中\n",
        "dfs(1, 0) #1表示目前所在城市編號，0表示已走過的路徑\n",
        "print(min1) # 列印最短路徑\n"
      ],
      "execution_count": null,
      "outputs": []
    }
  ]
}